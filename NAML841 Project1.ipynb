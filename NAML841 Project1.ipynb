{
 "cells": [
  {
   "cell_type": "code",
   "execution_count": 63,
   "metadata": {},
   "outputs": [],
   "source": [
    "import re\n",
    "import string\n",
    "import numpy as np\n",
    "import pandas as pd\n",
    "import seaborn as sns\n",
    "import matplotlib.pyplot as plt\n",
    "from collections import defaultdict "
   ]
  },
  {
   "cell_type": "code",
   "execution_count": 64,
   "metadata": {},
   "outputs": [],
   "source": [
    "data = pd.read_csv('C:/Users/Dahno Makaplan/Desktop/reviews.csv')"
   ]
  },
  {
   "cell_type": "code",
   "execution_count": 65,
   "metadata": {},
   "outputs": [],
   "source": [
    "data = data.drop(['Id'], axis=1)"
   ]
  },
  {
   "cell_type": "code",
   "execution_count": 66,
   "metadata": {},
   "outputs": [
    {
     "data": {
      "text/plain": [
       "(107018, 2)"
      ]
     },
     "execution_count": 66,
     "metadata": {},
     "output_type": "execute_result"
    }
   ],
   "source": [
    "data.shape"
   ]
  },
  {
   "cell_type": "code",
   "execution_count": 67,
   "metadata": {},
   "outputs": [
    {
     "data": {
      "text/html": [
       "<div>\n",
       "<style scoped>\n",
       "    .dataframe tbody tr th:only-of-type {\n",
       "        vertical-align: middle;\n",
       "    }\n",
       "\n",
       "    .dataframe tbody tr th {\n",
       "        vertical-align: top;\n",
       "    }\n",
       "\n",
       "    .dataframe thead th {\n",
       "        text-align: right;\n",
       "    }\n",
       "</style>\n",
       "<table border=\"1\" class=\"dataframe\">\n",
       "  <thead>\n",
       "    <tr style=\"text-align: right;\">\n",
       "      <th></th>\n",
       "      <th>Review</th>\n",
       "      <th>Label</th>\n",
       "    </tr>\n",
       "  </thead>\n",
       "  <tbody>\n",
       "    <tr>\n",
       "      <th>0</th>\n",
       "      <td>good and interesting</td>\n",
       "      <td>5</td>\n",
       "    </tr>\n",
       "    <tr>\n",
       "      <th>1</th>\n",
       "      <td>This class is very helpful to me. Currently, I...</td>\n",
       "      <td>5</td>\n",
       "    </tr>\n",
       "    <tr>\n",
       "      <th>2</th>\n",
       "      <td>like!Prof and TAs are helpful and the discussi...</td>\n",
       "      <td>5</td>\n",
       "    </tr>\n",
       "    <tr>\n",
       "      <th>3</th>\n",
       "      <td>Easy to follow and includes a lot basic and im...</td>\n",
       "      <td>5</td>\n",
       "    </tr>\n",
       "    <tr>\n",
       "      <th>4</th>\n",
       "      <td>Really nice teacher!I could got the point eazl...</td>\n",
       "      <td>4</td>\n",
       "    </tr>\n",
       "  </tbody>\n",
       "</table>\n",
       "</div>"
      ],
      "text/plain": [
       "                                              Review  Label\n",
       "0                               good and interesting      5\n",
       "1  This class is very helpful to me. Currently, I...      5\n",
       "2  like!Prof and TAs are helpful and the discussi...      5\n",
       "3  Easy to follow and includes a lot basic and im...      5\n",
       "4  Really nice teacher!I could got the point eazl...      4"
      ]
     },
     "execution_count": 67,
     "metadata": {},
     "output_type": "execute_result"
    }
   ],
   "source": [
    "data.head()"
   ]
  },
  {
   "cell_type": "code",
   "execution_count": 68,
   "metadata": {},
   "outputs": [
    {
     "name": "stdout",
     "output_type": "stream",
     "text": [
      "Unique Classes:  [1 2 3 4 5]\n"
     ]
    }
   ],
   "source": [
    "X = data['Review']\n",
    "Y = data['Label']\n",
    "x_train = data['Review'].values\n",
    "y_train = data['Label'].values\n",
    "k=np.unique(y_train)\n",
    "print (\"Unique Classes: \", k)"
   ]
  },
  {
   "cell_type": "code",
   "execution_count": 69,
   "metadata": {},
   "outputs": [
    {
     "data": {
      "text/plain": [
       "0                                      good and interesting\n",
       "1         This class is very helpful to me. Currently, I...\n",
       "2         like!Prof and TAs are helpful and the discussi...\n",
       "3         Easy to follow and includes a lot basic and im...\n",
       "4         Really nice teacher!I could got the point eazl...\n",
       "                                ...                        \n",
       "107013    Trendy topic with talks from expertises in the...\n",
       "107014    Wonderful! Simple and clear language, good ins...\n",
       "107015     an interesting and fun course. thanks. dr quincy\n",
       "107016    very broad perspective, up to date information...\n",
       "107017    An informative course on the social and financ...\n",
       "Name: Review, Length: 107018, dtype: object"
      ]
     },
     "execution_count": 69,
     "metadata": {},
     "output_type": "execute_result"
    }
   ],
   "source": [
    "X"
   ]
  },
  {
   "cell_type": "code",
   "execution_count": 70,
   "metadata": {},
   "outputs": [
    {
     "data": {
      "text/plain": [
       "0         5\n",
       "1         5\n",
       "2         5\n",
       "3         5\n",
       "4         4\n",
       "         ..\n",
       "107013    4\n",
       "107014    5\n",
       "107015    5\n",
       "107016    4\n",
       "107017    4\n",
       "Name: Label, Length: 107018, dtype: int64"
      ]
     },
     "execution_count": 70,
     "metadata": {},
     "output_type": "execute_result"
    }
   ],
   "source": [
    "Y"
   ]
  },
  {
   "cell_type": "code",
   "execution_count": 71,
   "metadata": {},
   "outputs": [
    {
     "data": {
      "text/html": [
       "<div>\n",
       "<style scoped>\n",
       "    .dataframe tbody tr th:only-of-type {\n",
       "        vertical-align: middle;\n",
       "    }\n",
       "\n",
       "    .dataframe tbody tr th {\n",
       "        vertical-align: top;\n",
       "    }\n",
       "\n",
       "    .dataframe thead th {\n",
       "        text-align: right;\n",
       "    }\n",
       "</style>\n",
       "<table border=\"1\" class=\"dataframe\">\n",
       "  <thead>\n",
       "    <tr style=\"text-align: right;\">\n",
       "      <th></th>\n",
       "      <th>common word</th>\n",
       "      <th>count</th>\n",
       "    </tr>\n",
       "  </thead>\n",
       "  <tbody>\n",
       "    <tr>\n",
       "      <th>0</th>\n",
       "      <td>the</td>\n",
       "      <td>111119</td>\n",
       "    </tr>\n",
       "    <tr>\n",
       "      <th>1</th>\n",
       "      <td>and</td>\n",
       "      <td>89702</td>\n",
       "    </tr>\n",
       "    <tr>\n",
       "      <th>2</th>\n",
       "      <td>to</td>\n",
       "      <td>85019</td>\n",
       "    </tr>\n",
       "    <tr>\n",
       "      <th>3</th>\n",
       "      <td>a</td>\n",
       "      <td>59847</td>\n",
       "    </tr>\n",
       "    <tr>\n",
       "      <th>4</th>\n",
       "      <td>I</td>\n",
       "      <td>58018</td>\n",
       "    </tr>\n",
       "  </tbody>\n",
       "</table>\n",
       "</div>"
      ],
      "text/plain": [
       "  common word   count\n",
       "0         the  111119\n",
       "1         and   89702\n",
       "2          to   85019\n",
       "3           a   59847\n",
       "4           I   58018"
      ]
     },
     "metadata": {},
     "output_type": "display_data"
    }
   ],
   "source": [
    "common = pd.Series(' '.join(data['Review']).split()).value_counts()[:1000]\n",
    "common = pd.DataFrame(common)\n",
    "common.reset_index(inplace=True)\n",
    "common.columns = ['common word', 'count']\n",
    "display(common.head())"
   ]
  },
  {
   "cell_type": "code",
   "execution_count": 72,
   "metadata": {},
   "outputs": [
    {
     "data": {
      "text/html": [
       "<div>\n",
       "<style scoped>\n",
       "    .dataframe tbody tr th:only-of-type {\n",
       "        vertical-align: middle;\n",
       "    }\n",
       "\n",
       "    .dataframe tbody tr th {\n",
       "        vertical-align: top;\n",
       "    }\n",
       "\n",
       "    .dataframe thead th {\n",
       "        text-align: right;\n",
       "    }\n",
       "</style>\n",
       "<table border=\"1\" class=\"dataframe\">\n",
       "  <thead>\n",
       "    <tr style=\"text-align: right;\">\n",
       "      <th></th>\n",
       "      <th>rare word</th>\n",
       "      <th>count</th>\n",
       "    </tr>\n",
       "  </thead>\n",
       "  <tbody>\n",
       "    <tr>\n",
       "      <th>0</th>\n",
       "      <td>algebra?</td>\n",
       "      <td>1</td>\n",
       "    </tr>\n",
       "    <tr>\n",
       "      <th>1</th>\n",
       "      <td>People'!Sincerely,Shawnee</td>\n",
       "      <td>1</td>\n",
       "    </tr>\n",
       "    <tr>\n",
       "      <th>2</th>\n",
       "      <td>OTA's</td>\n",
       "      <td>1</td>\n",
       "    </tr>\n",
       "    <tr>\n",
       "      <th>3</th>\n",
       "      <td>designs!</td>\n",
       "      <td>1</td>\n",
       "    </tr>\n",
       "    <tr>\n",
       "      <th>4</th>\n",
       "      <td>MUCH!</td>\n",
       "      <td>1</td>\n",
       "    </tr>\n",
       "  </tbody>\n",
       "</table>\n",
       "</div>"
      ],
      "text/plain": [
       "                   rare word  count\n",
       "0                   algebra?      1\n",
       "1  People'!Sincerely,Shawnee      1\n",
       "2                      OTA's      1\n",
       "3                   designs!      1\n",
       "4                      MUCH!      1"
      ]
     },
     "metadata": {},
     "output_type": "display_data"
    }
   ],
   "source": [
    "rare = pd.Series(' '.join(data['Review']).split()).value_counts()[-1000:]\n",
    "rare = pd.DataFrame(rare)\n",
    "rare.reset_index(inplace=True)\n",
    "rare.columns = ['rare word', 'count']\n",
    "display(rare.head())"
   ]
  },
  {
   "cell_type": "code",
   "execution_count": 73,
   "metadata": {},
   "outputs": [
    {
     "data": {
      "text/html": [
       "<div>\n",
       "<style scoped>\n",
       "    .dataframe tbody tr th:only-of-type {\n",
       "        vertical-align: middle;\n",
       "    }\n",
       "\n",
       "    .dataframe tbody tr th {\n",
       "        vertical-align: top;\n",
       "    }\n",
       "\n",
       "    .dataframe thead th {\n",
       "        text-align: right;\n",
       "    }\n",
       "</style>\n",
       "<table border=\"1\" class=\"dataframe\">\n",
       "  <thead>\n",
       "    <tr style=\"text-align: right;\">\n",
       "      <th></th>\n",
       "      <th>rating</th>\n",
       "      <th>count</th>\n",
       "    </tr>\n",
       "  </thead>\n",
       "  <tbody>\n",
       "    <tr>\n",
       "      <th>0</th>\n",
       "      <td>1</td>\n",
       "      <td>2469</td>\n",
       "    </tr>\n",
       "    <tr>\n",
       "      <th>1</th>\n",
       "      <td>2</td>\n",
       "      <td>2251</td>\n",
       "    </tr>\n",
       "    <tr>\n",
       "      <th>2</th>\n",
       "      <td>3</td>\n",
       "      <td>5071</td>\n",
       "    </tr>\n",
       "    <tr>\n",
       "      <th>3</th>\n",
       "      <td>4</td>\n",
       "      <td>18054</td>\n",
       "    </tr>\n",
       "    <tr>\n",
       "      <th>4</th>\n",
       "      <td>5</td>\n",
       "      <td>79173</td>\n",
       "    </tr>\n",
       "  </tbody>\n",
       "</table>\n",
       "</div>"
      ],
      "text/plain": [
       "   rating  count\n",
       "0       1   2469\n",
       "1       2   2251\n",
       "2       3   5071\n",
       "3       4  18054\n",
       "4       5  79173"
      ]
     },
     "execution_count": 73,
     "metadata": {},
     "output_type": "execute_result"
    }
   ],
   "source": [
    "ratings = pd.DataFrame(data.groupby('Label').size()).reset_index()\n",
    "ratings.columns = ['rating', 'count']\n",
    "ratings"
   ]
  },
  {
   "cell_type": "code",
   "execution_count": 74,
   "metadata": {},
   "outputs": [
    {
     "data": {
      "image/png": "[encoded data removed]",
      "text/plain": [
       "<Figure size 360x360 with 1 Axes>"
      ]
     },
     "metadata": {},
     "output_type": "display_data"
    }
   ],
   "source": [
    "from matplotlib.pyplot import figure\n",
    "sns.set(context='poster', style='ticks', font_scale=0.6)\n",
    "sns.catplot(x=\"rating\", y=\"count\", kind='bar', palette=\"ch:.25\", data=ratings)\n",
    "plt.title('Ratings from 1-5 stars')\n",
    "plt.xlabel('Rating stars')\n",
    "plt.ylabel('Number of reviews')\n",
    "sns.despine()\n",
    "plt.tight_layout();"
   ]
  },
  {
   "cell_type": "code",
   "execution_count": 75,
   "metadata": {},
   "outputs": [],
   "source": [
    "def separate_by_class(data):\n",
    "    separated = dict()\n",
    "    for i in range(len(data)):\n",
    "        vector = data[i]\n",
    "        class_value = vector[-1]\n",
    "        if (class_value not in separated):\n",
    "            separated[class_value] = list()\n",
    "        \n",
    "        separated[class_value] = re.sub('[^a-z\\s]+', ' ', data[i], flags = re.IGNORECASE)\n",
    "        separated[class_value] = re.sub('(\\s+)', ' ',  separated[class_value])\n",
    "        separated[class_value] =  separated[class_value].lower()\n",
    "    return separated"
   ]
  },
  {
   "cell_type": "code",
   "execution_count": 76,
   "metadata": {},
   "outputs": [],
   "source": [
    "clean_data = separate_by_class(X)"
   ]
  },
  {
   "cell_type": "code",
   "execution_count": 100,
   "metadata": {},
   "outputs": [
    {
     "data": {
      "text/plain": [
       "{'g': 'it s an amazing and wonderful course that helped me understand a lot of thing in coaching',\n",
       " '.': 'very broad perspective up to date information useful links and videos and good lecturers in general thank you for the insights and knowledge ',\n",
       " '!': 'wonderful simple and clear language good instructors great stuff highly recommend ',\n",
       " 'v': 'great course thx yaakov',\n",
       " 'e': 'great course',\n",
       " 's': 'great course for all coaches of youth sports',\n",
       " 'O': 'great information and tools to make your way forward in ltto',\n",
       " 'n': 'entertaining and informative the course helps you start writing with great tips and suggestions for inspiration',\n",
       " ')': 'far too basic in content it s clearly aimed at people with next to no experience at all on writing and publishing however it still is insightful and inspirational as writing for young readers is taught by two established children writers and packed with interviews of other writers from all around the world a nice introduction but just that an introduction if you have experience writing for children or else ',\n",
       " '1': 'the timing was a problem with part starting before the planned end of part ',\n",
       " 'a': 'it was a good learning experience this course certainly helped me to know as to know to bring out creativity in a structured way the guest lectures were very informa',\n",
       " 't': 'informative and excellent',\n",
       " 'h': 'only just started this course but already enjoying it very much',\n",
       " 'd': 'fun course for folks just learning about the process and a good review for others who wrote at one point in their lives and desire to return but d',\n",
       " 'x': 'great course u wanna start a business this is your index',\n",
       " 'r': 'many more handouts to refer can improve the course much better',\n",
       " 'c': 'after almost a year i am still waiting to receive my grade of for c',\n",
       " ',': 'an informative course on the social and financial implications due to zika as well as the factors leading to an epidemic of zika virus ',\n",
       " 'o': 'its laid out nicely with just enough to',\n",
       " 'l': 'very helpful this course show me that i m not alone in this path there are many people with same difficulties and devotion to make their ideas to come in to a fabulous books thank you for this tool',\n",
       " 'p': 'top',\n",
       " 'W': 'the teacher is great wow',\n",
       " 'm': 'great course highly recommend to anyone in a management position or anyone hoping to be in one as a project manager i found it very useful even when ideas i was familiar with were being discussed as this course helped me find a new way to articulate and discuss them',\n",
       " 'M': 'the professor is an outstanding instructor with an interdisciplinary approach to agribusiness greetings economicdeveloper bjorn zoho com',\n",
       " 'k': 'it was simply awesome the way strategy was simplified into the course thank you for awesome work',\n",
       " 'D': 'as a pediatric oncologist i have not had to deal with either lung or esophageal cancers the use of endoscopic analysis for determining lymph node involvement was quite an eye opener likewise the immunologic histochemical variation was a valuable learning experience as were thepathologic descriptions of adenoca variants the only possible criticism might be the thoracic surgeons use of acronyms without explanation butthis was minor kudos to the teamgratefully gerald vladimer md',\n",
       " 'T': 'i have really enjoyed this course t',\n",
       " 'A': 'good but the part of ab testing is really neither motivating nor exciting forn imca',\n",
       " 'C': 'c',\n",
       " '6': 'this course was very helpful for me thanks authors of this course best regards alexkyiv ukraine ',\n",
       " 'f': 'no matter you are new to your career or you are experienced for years this course will porvide you with insight and practice for observing yourself in your work and you will defenitly get learnings f',\n",
       " '\"': 'in this short course you can learn few important key topics of business strategy during the session there are several real cases discussed for understanding better the lesson but several doubts remains theory the end of session case studies are too complex for using the theories learned too many questions were not solved but it is foundation of ',\n",
       " 'y': 'an interesting and fun course thanks dr quincy',\n",
       " '😊': 'i really enjoyed this course professional fun filled with tons of useful information i recommend to take the lesson design as well then it really clicks all the theory they teach you is actually applied to all the courses of this specialization in the videos the assignments reinforces the message great job team asu ',\n",
       " 'u': 'wonderful course thank you',\n",
       " 'w': 'the course didn t feel as though it was aimed at a university level audience which is what i expect from coursera courses i i did appreciate the prompt that the assignments gave me to actually sit down and write but so far the feedback wasn t very helpful i think that there should be much more guidance on how to give good feedback to peers reading a good number of submissions from members of the course i didn t feel that this course gave them the practical skills needed for good prose but w',\n",
       " 'G': 'it is very useful courser that i can something about programing',\n",
       " 'K': 'its ok',\n",
       " 'E': 'muy bueno totalmente recomendable',\n",
       " '}': 'this course was very helpful as it provided us an exposure to the current environment issues and their relation with our economy it also recommended us to use the alternatives available and briefly described their advantages learning the new things from the economies around the world their development processes and the present scenario their had been shown and explained gorgeously overall it was a nice experience with course era and the lund university ',\n",
       " '?': 'i really appreciate being able to do this course for free it is by far the best course i have done in coursera yet the content is great and very well planned so much to get your inspiration from and qualified to teachers to guide you along the way what more can one ask for ',\n",
       " '~': 'quite organized and easy understood it s really helpful ',\n",
       " '！': 'good course ',\n",
       " '。': 'very inspiring to understand my own religion thanks a lot to the scientific contribution in this particular area ',\n",
       " '^': 'very nice course ',\n",
       " 'N': 'a clear step by step introduction to using python to get and parse information from the web using urllib xml and json',\n",
       " '*': 'what makes this course great is that it builds from almost no understanding at all all the way up to quite a comprehensive skillset the way john has built the course means you have an understanding of the basic principles at play when doing the most common statistical tests and this is incredibly satisfying would highly recommend for anyone in medicine or public health ',\n",
       " '+': 'some parts of the course were more advanced program analysis while some briefly touched the topic penetration testing web application security was almost there while low level security was just right keep up the good work recommended ',\n",
       " 'L': 'cool and prestigious grateful',\n",
       " 'z': 'brian jeff and roger thank you very much for all the data science courses really great i generally rate them stars but for this one i m giving stars not because the content is not good it is it provides good practical and experiential information but rather because the material seems repetitive at times either within the same course or with topics in the other courses also the sequencing and lectures seem sometime a bit disjointed may i humbly suggest an idea integrate the key points of this course relating to real world examples and the sharing of real world experiences into one of the other courses thank you robert al jaar phdrobert aljaar rassociates biz',\n",
       " '-': 'excellent thank you ',\n",
       " 'i': 'pretty basi',\n",
       " 'I': 'it was good got indepth knowledge of spark api',\n",
       " 'S': 'great course i love meteorjs',\n",
       " '2': 'it was awesome it gave me great insight into the social pyramid and how relevant virtual communitiesare to a social strategy and the social success of your brand looking forward to the mooc ',\n",
       " 'b': 'may allah gives you success well do e job',\n",
       " '(': 'great survey course about sustainable development covering all aspects including economics health urban development energy climate change and many others only downside is that it leaves you somewhat depressed at the potential for humanity to pull itself out of what appears to be a speeding train to doom ',\n",
       " ';': 'wonderful concepts presented beautifully if every software developer take this course ',\n",
       " '4': 'the assignments for this course are more hands on than course ',\n",
       " '3': 'best course to be preferred for learning angularjs from scratch mr yaakov course instructor has done a great job a big thumbs up to the course looking forward to many more courses coming up by mr yaakov chaikin ',\n",
       " 'P': 'this specialization really grows on you p',\n",
       " '%': 'not one a statistics newbie should take had to take it twice just to grasp ',\n",
       " \"'\": 'brilliant course to get you a head start on philosophy ',\n",
       " 'R': 'excelente curso ofrece una visi n panor mica sobre el marketing ahondando en temas importantes sobre marketing mix branding y comportamiento del consumidor',\n",
       " '#': 'at the beginning is quiet simple but if you miss something and i ll be honest in the forum you don t get so much help you ll need to wait to the instructor to reply you because he is the only who can put the answer or at least the help you need aside this this course is great it teaches you every thing you need to know at least the basics for start programming in c ',\n",
       " '🙇': 'i love the entire course thank you ',\n",
       " 'F': 'tout est passe dans une bonne condition ce cours est parfaif',\n",
       " ':': 'my background is in software development so i know a thing or two about writing code i m about halfway through the course and i m really struck by two things ',\n",
       " '@': 'it was a great experience building a computer hardware from first principles i am wondering if i can build this architecture on an fpga ',\n",
       " '😁': 'the sequence of activities in execution of the project envisages multiple interactions with your peers and unfolds your creative aspect to churn out a solution to put all the learning into practice cheers dss team brian jeff and roger ',\n",
       " ']': 'once again congratulations yaakov and jhu team amazing course i learned a lot on it ',\n",
       " 'Q': 'the good the idea of having the lectures in a q a style two experts in continuous conversation about the topic has a potentialthe bad that potential is wasted on poorly planned lessons and course contentthe ugly instructors run the swift code that is written during the lesson and they get a wrong result due to an error in the code they both agree that the result is weird but then continue to explain that this is how swift works in short they are misleading and confusing you on a topic you are trying to learn this is of course unintentional but gives you a clue about how the quality check on lecture videos are taken care of details here https www coursera org learn swift programming discussions dbk sjo eewnbbiwwhtgwq',\n",
       " '/': 'having successfully completed getting started agile meets design thinking i found this module partially confusing it is also based on alex cowans venture design process but this time on each step you do things that differ from what was taught in the previous course things seem to be complementary but you should not expect to go through a structured process over all courses they are all based on the same process but shed light on different aspects i also have the imporession that the didactics of this second course still coudl be improved a lot quizzes are currently reworked and bugs fixed and the team is very responsive it still was a good learning experience and doing design sprints is a great approach from the review of assignments i can say that a few students seem to adapt better to the structure of the course that i did but most seemed to be equally if not more confused doing reviews wasn t fun because formally most students got enough points but content wise i perceived it as rather messy assignments to review ',\n",
       " '5': 'the course is great however there are no written examples of expectations for weeks and at least david hill shows examples after lectures not everyone is an audible learner therefore written examples should be posted for week ',\n",
       " 'U': 'this is an amazing class life changing experience its help me a lot to deal with my children god only knows children are always testing you',\n",
       " '～': 'he is cute ',\n",
       " 'j': 'this course is structured very well for learning greatly appreciated bobj',\n",
       " '¡': ' great course ',\n",
       " '🌟': 'this course is quite best for a student want to learn basics properly ',\n",
       " '物': 'a good course that gave me a good refresher on at least what i grew up with decades ago it also introduced me to two that i am aware of but have not read them i especially like whose philosophy i resonate with i checked out his work from public library thereafter and am a firmer believer in how i would continue to conduct my life working with others ',\n",
       " 'B': 'excellent course it helps to obtain good basis of mongodb',\n",
       " '$': 'terrible course compared to all others i ve seen on coursera content is scarce quality is low maybe okay for college graduates but being in business it s just too slim video quality is also terrible don t waste ',\n",
       " '\\x7f': 'lots of fun great info on the evolution of dogs and how dogs learn ',\n",
       " '>': 'really amazing thank you for this course ',\n",
       " '\\\\': 'very interesting explanation ',\n",
       " 'H': 'brilliant loved the whole experience kudos jh',\n",
       " '😃': 'i love it so much ',\n",
       " '）': 'i think professor is so cute ',\n",
       " '[': 'the best course l ever saw thanks to the university and the lecturers ',\n",
       " 'Y': 'great sir i learn it so perfectly',\n",
       " '0': 'reat course really enjoyed it and learned a lot d ',\n",
       " '☺': 'i loved this course the course videos and the projects sharpened my idea about some of the toughest concepts of java and oop i recommend this course to anyone interested in learning oop in java ',\n",
       " '🌞': ' i absolutely love it ',\n",
       " '�': 'please we need pdf printable booklets of slides no headshots and use pale backgrounds under downloads below the video screen i love moocs that do this for us to help integrate knowledge thanks so much the course content is very good i have taken bricks and mortar forensic classes as well as a forensics mooc out of china and yours is comparable but please the downloadable slides thanks so muchcom g o ',\n",
       " 'X': 'en excellent introduction to ux',\n",
       " '§': 'my first course at coursera and it will be hard to find a better one thanks ',\n",
       " 'V': 'it was good but i felt the last two weeks like stuffing content i d have like to dig deeper into mobile development instead of wasting time in appletv',\n",
       " 'ד': 'outstanding well organized and masterfully presented by world class professor guillermo sapiro professor sapiro is a world renowned expert who is student centered and whose winning personality shines through in every lecture the selection of material from this vast and growing field is brilliant hats off to dr sapiro he is a jewel in the crown of duke university and to the academic community ',\n",
       " '👌': 'one of the best courses to start your journey in online learning ',\n",
       " '다': 'excellent course very good materials and good explanations yonsei university thank you very much for offering the opportunity to learn the korean language and bring their country and culture through coursera muchas gracias ',\n",
       " '는': 'fantastic a few minor bugs with compattibillity but besides this annoying problem very happy so far ',\n",
       " '7': 'it was a great course the final quiz was quite tough though there were certain questions that still after reading the material wasn t as clear to me question ',\n",
       " '8': 'the contents are not updated to swift and xcode ',\n",
       " '谢': 'really good one ',\n",
       " '个': 'great course ',\n",
       " '9': 'amazing and fascinating course for ages ',\n",
       " '…': 'the lecture is too general not a courser for beginners but if your are not a beginner you won t need this so ',\n",
       " '、': 'i like the sound of teacher i love ml ',\n",
       " 'Z': 'great material from a z',\n",
       " '·': 'i had read praise for this mooc before doing it and have to say the praise did not do justice to the experience i have loved feeling that i am really a live student of this mooc and not just looking at reading some pre recorded lectures from which the course leader is much removed it has been great to get regular updates from al and feel he really cares i had a wee grump initially when i realised just how north american the poetry presented was going to be but this was a very short lived grump when i realised the wealth of material and how much insight it could shed on other art i did wonder why so many people seemed to redo this mooc but now realise that doing the symposium session is just the tip of the iceberg i actually had withdrawal symptoms when i realised i had finished but promised myself a short semester break before moving on and through more of the material i had never studied poetry before and felt quite anxious about writing essays about poetry and about contributing to forums but found that i really enjoyed both particularly writing and reviewing essays this process was helped so much by the course videos where poems were close read and i could see that personal opinion mattered i participated in the forums but did not create enough time to do them justice and look forward to deeper connections i found it amazing that nearly every day over the last weeks something major or minor happened in my or the wider world that made me think of a poem i d read or a discussion i d watched read in modpo this certainly was clear evidence to me of the absolute relevance of modpo i d love to sign off with something pithy or poetic but all i can say is a huge thankyou and i ll be joining the s worldwide who keep on slopoing ',\n",
       " '<': ' thank you for giving us hope we all need it ',\n",
       " 'ㅠ': 'i mean i cannot do the assignment without the certification process it is a bad point ',\n",
       " '点': ' to the point ',\n",
       " '用': 'cool ',\n",
       " '💫': 'loved it ',\n",
       " '🕷': 'the course is logical and thorough flawlessly delivered well except maybe the audio quality at times and challenging just enough to make a seasoned imperative programmer scream in frustration but not quit the only thing standing between this course and perfection are the pop quiz bugs but even they contribute to the message of the course in a way if coursera s platform were written in scala there probably would be fewer of them ',\n",
       " '🐔': 'very awesome and interesting ',\n",
       " 'ღ': 'i think this course was extremely informative productive and thought provoking professor barbara also sparked my interest to gain more knowledge about positive psychology and i am considering following professor barbara s researches and books as well thank you professor for making that awesome course so interesting you are awesomely awesome ',\n",
       " '🏻': 'this course has been quite instrumental in shape my idea for a startup before this course just because of nuclear thought process about a startup i could not implement my idea know am more confident because the elite lot of profs have taught me thank you very much ',\n",
       " '”': 'i would give this course stars the course material was very well organized and the examples provided were for the most part very topical the weight of the peer review at the end of the course is too high your peers have roughly the same knowledge as you do when you submit your assignment they are being asked to assign a value to your submission which is really coarse as there are only choices a pass not quite and a fail considering you have done all the course work and quizzes up to the end it seems quite arbitrary on another note i would like to suggest a project which became a book all too often today we view photographs in every moment of our lives but we are unaware of the the face of those creators and their iconic works moma s course seems a perfect opportunity to somehow introduce the subject the book is behind photographs archiving photographic legends by tim mantoani and markmurphy behind photographs archiving photographic legends began as the personal quest of photographer tim mantoani to document and preserve noted photographers together with their images we have come to a point in history where we are losing both photographic recording mediums and iconic photographers mantoani comments while many people are familiar with iconic photographs the general public has no idea of who created them this book became a means to do that the photographer and their photograph in one image ',\n",
       " '习': ' web scraping with python ',\n",
       " '|': 'the lectures sometimes used to get very boring ',\n",
       " '，': 'smooth ',\n",
       " 'ı': 'thank you so much what a great course thank you so much to firstly founders of this platform coursera mrs koller and mr ng then mr larsen to all contributors supporters i m so appreciated that i could have taken this course you re such a beautiful and amazing community you really helped me so much to make my dreams come true thank you again for all best regards and best wishes zeynepg l bayrı',\n",
       " '了': 'it s very difficult to listen what the teacher say the teacher is not good for expression ',\n",
       " 'Ü': 'beyond fabulous all that you could need and more to enrich teaching with technology ',\n",
       " '😀': 'very good and professional i enjoyed every single lecture '}"
      ]
     },
     "execution_count": 100,
     "metadata": {},
     "output_type": "execute_result"
    }
   ],
   "source": [
    "clean_data"
   ]
  },
  {
   "cell_type": "code",
   "execution_count": 77,
   "metadata": {},
   "outputs": [],
   "source": [
    "def word_counter(sentence_list):\n",
    "    word_count = defaultdict(lambda:0)\n",
    "    for sentence in sentence_list:\n",
    "        for word in sentence:\n",
    "            word_count[word] += 1\n",
    "    return word_count"
   ]
  },
  {
   "cell_type": "code",
   "execution_count": 78,
   "metadata": {},
   "outputs": [],
   "source": [
    "def word_counter(sentence_list):\n",
    "    word_count = defaultdict(lambda:0)\n",
    "    for sentence in sentence_list:\n",
    "        for word in sentence:\n",
    "            word_count[word] += 1\n",
    "    return word_count"
   ]
  },
  {
   "cell_type": "code",
   "execution_count": 79,
   "metadata": {},
   "outputs": [],
   "source": [
    "e=[]\n",
    "d=[]\n",
    "t=[]\n",
    "for i in range(1, len(k)+1):\n",
    "    star = [x.split() for x in set(X[Y==i])]\n",
    "    star_total = sum([len(sentence) for sentence in star])\n",
    "    prior = len(data['Label'][data['Label']==i])/len(data)\n",
    "    star = word_counter(star)\n",
    "    t.append(star_total)\n",
    "    d.append(prior)\n",
    "    e.append(star)"
   ]
  },
  {
   "cell_type": "code",
   "execution_count": 80,
   "metadata": {},
   "outputs": [
    {
     "data": {
      "text/plain": [
       "[0.023070885271636546,\n",
       " 0.021033844773776376,\n",
       " 0.047384552131417144,\n",
       " 0.16870059242370442,\n",
       " 0.7398101253994656]"
      ]
     },
     "execution_count": 80,
     "metadata": {},
     "output_type": "execute_result"
    }
   ],
   "source": [
    "d"
   ]
  },
  {
   "cell_type": "code",
   "execution_count": 81,
   "metadata": {},
   "outputs": [
    {
     "data": {
      "text/plain": [
       "2631836"
      ]
     },
     "execution_count": 81,
     "metadata": {},
     "output_type": "execute_result"
    }
   ],
   "source": [
    "sum(t)"
   ]
  },
  {
   "cell_type": "code",
   "execution_count": 82,
   "metadata": {},
   "outputs": [
    {
     "data": {
      "text/plain": [
       "[120888, 120624, 204775, 512775, 1672774]"
      ]
     },
     "execution_count": 82,
     "metadata": {},
     "output_type": "execute_result"
    }
   ],
   "source": [
    "t"
   ]
  },
  {
   "cell_type": "code",
   "execution_count": 83,
   "metadata": {},
   "outputs": [
    {
     "name": "stdout",
     "output_type": "stream",
     "text": [
      "The maximum probability is:  0.7398101253994656\n",
      "The sum of probabilities is:  1.0\n"
     ]
    }
   ],
   "source": [
    "maxi=np.max(d)\n",
    "print('The maximum probability is: ', maxi)\n",
    "print('The sum of probabilities is: ', np.sum(d))"
   ]
  },
  {
   "cell_type": "code",
   "execution_count": 84,
   "metadata": {},
   "outputs": [],
   "source": [
    "likelihood = len(e[0])/t[0] + len(e[1])/t[1] + len(e[2])/t[2] + len(e[3])/t[3] + len(e[4])/t[4] "
   ]
  },
  {
   "cell_type": "code",
   "execution_count": 85,
   "metadata": {},
   "outputs": [],
   "source": [
    "marginal = (d[0]*t[0]/sum(t)) + (d[1]*t[1]/sum(t)) + (d[2]*t[2]/sum(t)) + (d[3]*t[3]/sum(t)) + (d[4]*t[4]/sum(t))"
   ]
  },
  {
   "cell_type": "code",
   "execution_count": 86,
   "metadata": {},
   "outputs": [],
   "source": [
    "posterior = likelihood/marginal"
   ]
  },
  {
   "cell_type": "code",
   "execution_count": 87,
   "metadata": {},
   "outputs": [
    {
     "name": "stdout",
     "output_type": "stream",
     "text": [
      "The posterior is: 0.8606799394561401\n"
     ]
    }
   ],
   "source": [
    "print('The posterior is:', posterior)"
   ]
  },
  {
   "cell_type": "code",
   "execution_count": 95,
   "metadata": {},
   "outputs": [],
   "source": [
    "star_prior=[]\n",
    "for i in range(len(k)):\n",
    "    one =t[i]/sum(t)\n",
    "    star_prior.append(one)"
   ]
  },
  {
   "cell_type": "code",
   "execution_count": 96,
   "metadata": {},
   "outputs": [
    {
     "data": {
      "text/plain": [
       "[0.04593295326912467,\n",
       " 0.045832643067425176,\n",
       " 0.07780689982202539,\n",
       " 0.1948354684714397,\n",
       " 0.6355920353699851]"
      ]
     },
     "execution_count": 96,
     "metadata": {},
     "output_type": "execute_result"
    }
   ],
   "source": [
    "star_prior"
   ]
  },
  {
   "cell_type": "code",
   "execution_count": 97,
   "metadata": {},
   "outputs": [
    {
     "name": "stdout",
     "output_type": "stream",
     "text": [
      "The maximum is:  0.6355920353699851\n"
     ]
    }
   ],
   "source": [
    "print('The maximum is: ', np.max(star_prior))"
   ]
  },
  {
   "cell_type": "code",
   "execution_count": 98,
   "metadata": {},
   "outputs": [],
   "source": [
    "star1_prior=[]\n",
    "for i in range(len(k)):\n",
    "    one =d[i] * t[i]/sum(t)\n",
    "    star1_prior.append(one)"
   ]
  },
  {
   "cell_type": "code",
   "execution_count": 99,
   "metadata": {},
   "outputs": [
    {
     "data": {
      "text/plain": [
       "[0.0010597138950594182,\n",
       " 0.0009640366998521191,\n",
       " 0.003686845100800713,\n",
       " 0.03286885895628187,\n",
       " 0.4702174233899702]"
      ]
     },
     "execution_count": 99,
     "metadata": {},
     "output_type": "execute_result"
    }
   ],
   "source": [
    "star1_prior"
   ]
  },
  {
   "cell_type": "code",
   "execution_count": null,
   "metadata": {},
   "outputs": [],
   "source": []
  }
 ],
 "metadata": {
  "kernelspec": {
   "display_name": "Python 3",
   "language": "python",
   "name": "python3"
  },
  "language_info": {
   "codemirror_mode": {
    "name": "ipython",
    "version": 3
   },
   "file_extension": ".py",
   "mimetype": "text/x-python",
   "name": "python",
   "nbconvert_exporter": "python",
   "pygments_lexer": "ipython3",
   "version": "3.7.6"
  }
 },
 "nbformat": 4,
 "nbformat_minor": 4
}
